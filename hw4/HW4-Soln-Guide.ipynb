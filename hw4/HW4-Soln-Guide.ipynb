{
 "cells": [
  {
   "cell_type": "markdown",
   "id": "9cd2ba15-6dce-41a1-aade-a3ba9fd1c9b9",
   "metadata": {},
   "source": [
    "# COMP 370 Homework 4 (311 Data Analysis)"
   ]
  },
  {
   "cell_type": "markdown",
   "id": "11b33eed-c25b-46d0-aea6-2792dde879a1",
   "metadata": {
    "tags": []
   },
   "source": [
    "### Task 0: Setup a git repo"
   ]
  },
  {
   "cell_type": "markdown",
   "id": "23b09aa9-53b9-4bf7-83f1-748c499cb5bb",
   "metadata": {},
   "source": [
    "1. If you haven't done so yet, set up your Github account by referring to the following quickstart tutorial:\n",
    "\n",
    "https://docs.github.com/en/get-started/getting-started-with-git/set-up-git"
   ]
  },
  {
   "cell_type": "markdown",
   "id": "21ddad14-d0f6-4564-9833-83caf4b64ac3",
   "metadata": {},
   "source": [
    "2. Create a new GitHub repository: Go to GitHub, create a new repository (e.g., comp-370), and follow the prompts to create it."
   ]
  },
  {
   "cell_type": "markdown",
   "id": "2738672b-196e-46de-b63a-9f19fa4f6659",
   "metadata": {
    "tags": []
   },
   "source": [
    "3. Clone the repository locally:"
   ]
  },
  {
   "cell_type": "raw",
   "id": "ffcecf41-29c5-436d-8399-deaf1257beca",
   "metadata": {},
   "source": [
    "git clone git@github.com:<username>/<repo-name>.git"
   ]
  },
  {
   "cell_type": "markdown",
   "id": "067a0dd2-2923-4be2-bbc7-4d9891b16d38",
   "metadata": {},
   "source": [
    "Make sure to setup your SSH key here: https://github.com/settings/keys"
   ]
  },
  {
   "cell_type": "markdown",
   "id": "0475b5d1-0ad3-437c-9e90-f815f5dc1465",
   "metadata": {
    "tags": []
   },
   "source": [
    "### Task 1: CLI investigation tool"
   ]
  },
  {
   "cell_type": "markdown",
   "id": "ba2a96d6-582f-4163-a193-c02feffd8bea",
   "metadata": {},
   "source": [
    "1. Use `grep` to filter incidents from 2020. In your terminal, run the following:"
   ]
  },
  {
   "cell_type": "raw",
   "id": "104d66d2-47cf-4222-a003-5c3e34fe59da",
   "metadata": {},
   "source": [
    "tar -xOzf nyc_311.csv.tgz | grep '2020' > nyc_311_2020.csv"
   ]
  },
  {
   "cell_type": "markdown",
   "id": "8b44a2ae-c972-4691-9025-c965ead77173",
   "metadata": {},
   "source": [
    "Explanation:\n",
    "- `tar -xOzf nyc_311.csv.tgz`: This extracts the contents of the .tgz file and sends the output (-O) to the standard output (i.e., the terminal) without writing it to disk.\n",
    "- `grep '2020'`: This filters the lines that contain the string \"2020,\" which will capture all incidents created OR closed in 2020.\n",
    "- `> nyc_311_2020.csv`: This writes the filtered output to a new file, which will contain only incidents that occurred in 2020."
   ]
  },
  {
   "cell_type": "code",
   "execution_count": 4,
   "id": "ff50320f-ae41-420f-a522-30031cff9bdb",
   "metadata": {
    "tags": []
   },
   "outputs": [
    {
     "data": {
      "text/html": [
       "<div>\n",
       "<style scoped>\n",
       "    .dataframe tbody tr th:only-of-type {\n",
       "        vertical-align: middle;\n",
       "    }\n",
       "\n",
       "    .dataframe tbody tr th {\n",
       "        vertical-align: top;\n",
       "    }\n",
       "\n",
       "    .dataframe thead th {\n",
       "        text-align: right;\n",
       "    }\n",
       "</style>\n",
       "<table border=\"1\" class=\"dataframe\">\n",
       "  <thead>\n",
       "    <tr style=\"text-align: right;\">\n",
       "      <th></th>\n",
       "      <th>40990189</th>\n",
       "      <th>11/20/2018 06:15:00 AM</th>\n",
       "      <th>05/21/2020 03:00:00 AM</th>\n",
       "      <th>DEP</th>\n",
       "      <th>Department of Environmental Protection</th>\n",
       "      <th>Sewer</th>\n",
       "      <th>Manhole Cover Broken/Making Noise (SB)</th>\n",
       "      <th>Unnamed: 7</th>\n",
       "      <th>11385</th>\n",
       "      <th>Unnamed: 9</th>\n",
       "      <th>...</th>\n",
       "      <th>Unnamed: 31</th>\n",
       "      <th>Unnamed: 32</th>\n",
       "      <th>Unnamed: 33</th>\n",
       "      <th>Unnamed: 34</th>\n",
       "      <th>Unnamed: 35</th>\n",
       "      <th>Unnamed: 36</th>\n",
       "      <th>Unnamed: 37</th>\n",
       "      <th>40.6981388</th>\n",
       "      <th>-73.8911062</th>\n",
       "      <th>(40.6981388, -73.8911062)</th>\n",
       "    </tr>\n",
       "  </thead>\n",
       "  <tbody>\n",
       "    <tr>\n",
       "      <th>0</th>\n",
       "      <td>40990385</td>\n",
       "      <td>11/20/2018 01:00:54 PM</td>\n",
       "      <td>11/20/2018 05:03:00 PM</td>\n",
       "      <td>NYPD</td>\n",
       "      <td>New York City Police Department</td>\n",
       "      <td>Drug Activity</td>\n",
       "      <td>Use Indoor</td>\n",
       "      <td>Hallway</td>\n",
       "      <td>10002</td>\n",
       "      <td>200 ELDRIDGE STREET</td>\n",
       "      <td>...</td>\n",
       "      <td>NaN</td>\n",
       "      <td>NaN</td>\n",
       "      <td>NaN</td>\n",
       "      <td>NaN</td>\n",
       "      <td>NaN</td>\n",
       "      <td>NaN</td>\n",
       "      <td>NaN</td>\n",
       "      <td>40.721133</td>\n",
       "      <td>-73.990429</td>\n",
       "      <td>(40.7211333, -73.990429)</td>\n",
       "    </tr>\n",
       "    <tr>\n",
       "      <th>1</th>\n",
       "      <td>40990529</td>\n",
       "      <td>11/20/2018 08:29:45 PM</td>\n",
       "      <td>01/13/2020 11:59:10 AM</td>\n",
       "      <td>DOHMH</td>\n",
       "      <td>Department of Health and Mental Hygiene</td>\n",
       "      <td>Day Care</td>\n",
       "      <td>Other</td>\n",
       "      <td>Commercial Building</td>\n",
       "      <td>10039</td>\n",
       "      <td>258 WEST 153 STREET</td>\n",
       "      <td>...</td>\n",
       "      <td>NaN</td>\n",
       "      <td>NaN</td>\n",
       "      <td>NaN</td>\n",
       "      <td>NaN</td>\n",
       "      <td>NaN</td>\n",
       "      <td>NaN</td>\n",
       "      <td>NaN</td>\n",
       "      <td>40.827390</td>\n",
       "      <td>-73.937135</td>\n",
       "      <td>(40.8273901, -73.9371348)</td>\n",
       "    </tr>\n",
       "    <tr>\n",
       "      <th>2</th>\n",
       "      <td>40990691</td>\n",
       "      <td>11/20/2018 11:27:17 AM</td>\n",
       "      <td>04/03/2020 10:05:38 AM</td>\n",
       "      <td>DPR</td>\n",
       "      <td>Department of Parks and Recreation</td>\n",
       "      <td>Damaged Tree</td>\n",
       "      <td>Entire Tree Has Fallen Down</td>\n",
       "      <td>Street</td>\n",
       "      <td>11230</td>\n",
       "      <td>948 EAST 7 STREET</td>\n",
       "      <td>...</td>\n",
       "      <td>NaN</td>\n",
       "      <td>NaN</td>\n",
       "      <td>NaN</td>\n",
       "      <td>NaN</td>\n",
       "      <td>NaN</td>\n",
       "      <td>NaN</td>\n",
       "      <td>NaN</td>\n",
       "      <td>40.627659</td>\n",
       "      <td>-73.969739</td>\n",
       "      <td>(40.6276592, -73.9697386)</td>\n",
       "    </tr>\n",
       "    <tr>\n",
       "      <th>3</th>\n",
       "      <td>40991164</td>\n",
       "      <td>11/20/2018 09:09:05 PM</td>\n",
       "      <td>04/15/2019 11:47:58 AM</td>\n",
       "      <td>DPR</td>\n",
       "      <td>Department of Parks and Recreation</td>\n",
       "      <td>New Tree Request</td>\n",
       "      <td>For One Address</td>\n",
       "      <td>Street</td>\n",
       "      <td>10024</td>\n",
       "      <td>313 WEST 90 STREET</td>\n",
       "      <td>...</td>\n",
       "      <td>NaN</td>\n",
       "      <td>NaN</td>\n",
       "      <td>NaN</td>\n",
       "      <td>NaN</td>\n",
       "      <td>NaN</td>\n",
       "      <td>NaN</td>\n",
       "      <td>NaN</td>\n",
       "      <td>40.791655</td>\n",
       "      <td>-73.976486</td>\n",
       "      <td>(40.7916548, -73.9764861)</td>\n",
       "    </tr>\n",
       "    <tr>\n",
       "      <th>4</th>\n",
       "      <td>40991205</td>\n",
       "      <td>11/20/2018 04:48:08 PM</td>\n",
       "      <td>11/20/2018 05:49:52 PM</td>\n",
       "      <td>NYPD</td>\n",
       "      <td>New York City Police Department</td>\n",
       "      <td>Blocked Driveway</td>\n",
       "      <td>Partial Access</td>\n",
       "      <td>Street/Sidewalk</td>\n",
       "      <td>11418</td>\n",
       "      <td>86-39 106 STREET</td>\n",
       "      <td>...</td>\n",
       "      <td>NaN</td>\n",
       "      <td>NaN</td>\n",
       "      <td>NaN</td>\n",
       "      <td>NaN</td>\n",
       "      <td>NaN</td>\n",
       "      <td>NaN</td>\n",
       "      <td>NaN</td>\n",
       "      <td>40.696550</td>\n",
       "      <td>-73.841757</td>\n",
       "      <td>(40.6965499, -73.841757)</td>\n",
       "    </tr>\n",
       "  </tbody>\n",
       "</table>\n",
       "<p>5 rows × 41 columns</p>\n",
       "</div>"
      ],
      "text/plain": [
       "   40990189  11/20/2018 06:15:00 AM  05/21/2020 03:00:00 AM    DEP  \\\n",
       "0  40990385  11/20/2018 01:00:54 PM  11/20/2018 05:03:00 PM   NYPD   \n",
       "1  40990529  11/20/2018 08:29:45 PM  01/13/2020 11:59:10 AM  DOHMH   \n",
       "2  40990691  11/20/2018 11:27:17 AM  04/03/2020 10:05:38 AM    DPR   \n",
       "3  40991164  11/20/2018 09:09:05 PM  04/15/2019 11:47:58 AM    DPR   \n",
       "4  40991205  11/20/2018 04:48:08 PM  11/20/2018 05:49:52 PM   NYPD   \n",
       "\n",
       "    Department of Environmental Protection             Sewer  \\\n",
       "0          New York City Police Department     Drug Activity   \n",
       "1  Department of Health and Mental Hygiene          Day Care   \n",
       "2       Department of Parks and Recreation      Damaged Tree   \n",
       "3       Department of Parks and Recreation  New Tree Request   \n",
       "4          New York City Police Department  Blocked Driveway   \n",
       "\n",
       "  Manhole Cover Broken/Making Noise (SB)           Unnamed: 7  11385  \\\n",
       "0                             Use Indoor              Hallway  10002   \n",
       "1                                  Other  Commercial Building  10039   \n",
       "2            Entire Tree Has Fallen Down               Street  11230   \n",
       "3                        For One Address               Street  10024   \n",
       "4                         Partial Access      Street/Sidewalk  11418   \n",
       "\n",
       "            Unnamed: 9  ... Unnamed: 31 Unnamed: 32 Unnamed: 33 Unnamed: 34  \\\n",
       "0  200 ELDRIDGE STREET  ...         NaN         NaN         NaN         NaN   \n",
       "1  258 WEST 153 STREET  ...         NaN         NaN         NaN         NaN   \n",
       "2    948 EAST 7 STREET  ...         NaN         NaN         NaN         NaN   \n",
       "3   313 WEST 90 STREET  ...         NaN         NaN         NaN         NaN   \n",
       "4     86-39 106 STREET  ...         NaN         NaN         NaN         NaN   \n",
       "\n",
       "  Unnamed: 35 Unnamed: 36 Unnamed: 37 40.6981388 -73.8911062  \\\n",
       "0         NaN         NaN         NaN  40.721133  -73.990429   \n",
       "1         NaN         NaN         NaN  40.827390  -73.937135   \n",
       "2         NaN         NaN         NaN  40.627659  -73.969739   \n",
       "3         NaN         NaN         NaN  40.791655  -73.976486   \n",
       "4         NaN         NaN         NaN  40.696550  -73.841757   \n",
       "\n",
       "   (40.6981388, -73.8911062)  \n",
       "0   (40.7211333, -73.990429)  \n",
       "1  (40.8273901, -73.9371348)  \n",
       "2  (40.6276592, -73.9697386)  \n",
       "3  (40.7916548, -73.9764861)  \n",
       "4   (40.6965499, -73.841757)  \n",
       "\n",
       "[5 rows x 41 columns]"
      ]
     },
     "execution_count": 4,
     "metadata": {},
     "output_type": "execute_result"
    }
   ],
   "source": [
    "import pandas as pd \n",
    "\n",
    "df = pd.read_csv('comp-370/nyc_311_2020.csv', nrows=100)\n",
    "df.head()"
   ]
  },
  {
   "cell_type": "code",
   "execution_count": null,
   "id": "be7491b6-9fb5-4aac-9d01-9288b36c33ea",
   "metadata": {},
   "outputs": [],
   "source": [
    "import argparse\n",
    "import pandas as pd\n",
    "import dask.dataframe as dd\n",
    "\n",
    "\n",
    "def borough_complaints(input_file, start_date, end_date, output_file=None):\n",
    "    usecols = [0, 1, 2, 5, 25]  # Only load necessary columns\n",
    "    column_names = ['unique_key', 'created_date', 'closed_date', 'complaint_type', 'borough']\n",
    "    dtypes = {\n",
    "        'unique_key': 'object',\n",
    "        'created_date': 'object',\n",
    "        'closed_date': 'object',\n",
    "        'complaint_type': 'object',\n",
    "        'borough': 'object'\n",
    "    }\n",
    "\n",
    "    df = dd.read_csv(input_file, header=None, names=column_names, dtype=dtypes, usecols=usecols)\n",
    "\n",
    "    date_format = '%m/%d/%Y %I:%M:%S %p'\n",
    "\n",
    "    df['created_date'] = dd.to_datetime(df['created_date'], format=date_format, errors='coerce')\n",
    "    df['closed_date'] = dd.to_datetime(df['closed_date'], format=date_format, errors='coerce')\n",
    "\n",
    "    start_date = pd.to_datetime(start_date, format=\"%Y-%m-%d\")\n",
    "    end_date = pd.to_datetime(end_date, format=\"%Y-%m-%d\")\n",
    "\n",
    "    df_filtered = df[(df['created_date'] >= start_date) & (df['created_date'] <= end_date)]\n",
    "\n",
    "    result = df_filtered.groupby(['complaint_type', 'borough']).size().reset_index()\n",
    "\n",
    "    result = result.rename(columns={0: 'count'}).compute()\n",
    "\n",
    "    result_csv = result.to_csv(index=False)\n",
    "\n",
    "    if output_file:\n",
    "        with open(output_file, 'w') as f:\n",
    "            f.write(result_csv)\n",
    "    else:\n",
    "        print(result_csv)\n",
    "        \n",
    "if __name__ == \"__main__\":\n",
    "    parser = argparse.ArgumentParser()\n",
    "    parser.add_argument('-i', '--input', required=True, help='input_csv')\n",
    "    parser.add_argument('-s', '--start', required=True, help='start_date')\n",
    "    parser.add_argument('-e', '--end', required=True, help='end_date')\n",
    "    parser.add_argument('-o', '--output', help='output_csv')\n",
    "    \n",
    "    args = parser.parse_args()\n",
    "    borough_complaints(args.input, args.start, args.end, args.output)"
   ]
  },
  {
   "cell_type": "markdown",
   "id": "8159b5e3-54da-4c1d-aba3-568fb397aec0",
   "metadata": {},
   "source": [
    "The key points to understand in the script above are the following:\n",
    "- Only load the data you need (in this case, we only really need the `created_date`, `closed_date`, `complaint_type`, and  `borough`\n",
    "- Ensure proper date formatting. The source file is in floating timestamp format. Meanwhile, we want our argparse arguments to be of the form YYYY-MM-DD. \n",
    "\n",
    "Some of the most commonly used format codes include:\n",
    "\n",
    "- %Y - Year with century (e.g., 2023) \n",
    "- %m - Month as a zero-padded decimal number (01 to 12)\n",
    "- %d - Day of the month as a zero-padded decimal number (01 to 31)\n",
    "- %H - Hour (24-hour clock) as a zero-padded decimal number (00 to 23)\n",
    "- %I - Hour (12-hour clock) as a zero-padded decimal number (01 to 12)\n",
    "- %M - Minute as a zero-padded decimal number (00 to 59)\n",
    "- %S - Second as a zero-padded decimal number (00 to 59)\n",
    "- %p - AM or PM\n",
    "\n",
    "You can also refer to https://docs.python.org/3/library/datetime.html#strftime-and-strptime-format-codes for more information about `datetime` formats in python."
   ]
  },
  {
   "cell_type": "markdown",
   "id": "3c87c725-12b8-4ff8-b7e6-5b64424ae388",
   "metadata": {},
   "source": [
    "Sample command for calling the `borough_complaints.py` script and filtering based on start and end date:"
   ]
  },
  {
   "cell_type": "raw",
   "id": "8dc32178-ada5-43b1-acb8-592aa12a2239",
   "metadata": {},
   "source": [
    "borough_complaints.py -i nyc_311_2020.csv -s '2020-01-01' -e '2020-02-28' -o complaints_jan_feb_2020.csv"
   ]
  },
  {
   "cell_type": "markdown",
   "id": "01e2bfe9-80cb-49cc-b665-4d7f6d0dd30d",
   "metadata": {},
   "source": [
    "3. Navigate to the repo and add your Python script to the Git repository:"
   ]
  },
  {
   "cell_type": "raw",
   "id": "dcf3d1c3-ec8f-466e-80ad-853ca93e069c",
   "metadata": {},
   "source": [
    "git add borough_complaints.py"
   ]
  },
  {
   "cell_type": "markdown",
   "id": "5ca40ec1-c2c1-4570-a827-6d7686723b8c",
   "metadata": {},
   "source": [
    "4. Ensure that the dataset is excluded using `.gitignore`:"
   ]
  },
  {
   "cell_type": "markdown",
   "id": "08735fab-e14c-4fc8-9144-7e7135a5f34d",
   "metadata": {
    "tags": []
   },
   "source": [
    "- If you haven’t already created a .gitignore file, do so:"
   ]
  },
  {
   "cell_type": "raw",
   "id": "ccb908ab-cabd-439c-9eaf-8194561348c5",
   "metadata": {},
   "source": [
    "touch .gitignore\n",
    "nano .gitignore"
   ]
  },
  {
   "cell_type": "markdown",
   "id": "283302bd-5c4e-4823-aab3-fd485b1c480b",
   "metadata": {},
   "source": [
    "- Once the file is open, add the patterns for files and directories that you want to ignore. In this case, you can copy and paste the following lines:"
   ]
  },
  {
   "cell_type": "raw",
   "id": "11085ff8-e774-4909-bdcb-d1ce4a9f0121",
   "metadata": {},
   "source": [
    "*.csv            # Ignore all CSV files\n",
    "*.tgz            # Ignore all .tgz archive files\n",
    "__pycache__/     # Ignore Python cache directories\n",
    "*.ipynb_checkpoints  # Ignore Jupyter Notebook checkpoint files"
   ]
  },
  {
   "cell_type": "markdown",
   "id": "7a71563b-8c88-438f-9049-cd7f781f371a",
   "metadata": {},
   "source": [
    "- After adding the lines to the .gitignore file, save your changes. If using nano, press CTRL + X, then press Y to confirm the changes, and press Enter to save."
   ]
  },
  {
   "cell_type": "markdown",
   "id": "525419c0-c75f-46e9-a178-53c558a43d9b",
   "metadata": {
    "tags": []
   },
   "source": [
    "5. Commit the changes to the repo:"
   ]
  },
  {
   "cell_type": "raw",
   "id": "0db30cd8-9e12-4570-943a-5a63d2ea610d",
   "metadata": {},
   "source": [
    "git commit -m \"Added borough_complaints.py script\""
   ]
  },
  {
   "cell_type": "markdown",
   "id": "225800c6-b136-4a6e-99a0-180171f18bd9",
   "metadata": {},
   "source": [
    "6. Push to the remote repository:"
   ]
  },
  {
   "cell_type": "raw",
   "id": "6cb6f66e-2a1b-4882-ab7b-690b83d367f8",
   "metadata": {},
   "source": [
    "git push origin main"
   ]
  },
  {
   "cell_type": "markdown",
   "id": "37f0bdf8-b57d-4911-b1c3-e1658b7840f0",
   "metadata": {
    "tags": []
   },
   "source": [
    "**Summary:**\n",
    "- The dataset is excluded from Git by using a .gitignore file.\n",
    "- Only the Python script and relevant code files are committed and pushed to your Git repository."
   ]
  },
  {
   "cell_type": "markdown",
   "id": "d30006b5-6c74-4efe-984a-bdec7700bf72",
   "metadata": {
    "tags": []
   },
   "source": [
    "### Task 2: Setup Jupyter on EC2"
   ]
  },
  {
   "cell_type": "markdown",
   "id": "1dabd4c1-c0a2-4638-b4c0-c7702bbddf04",
   "metadata": {
    "tags": []
   },
   "source": [
    "1. Install Jupyter on your instace:"
   ]
  },
  {
   "cell_type": "raw",
   "id": "e575a37e-73b1-44e5-9c0c-f0f4b35f5346",
   "metadata": {},
   "source": [
    "sudo apt update\n",
    "pip install jupyter"
   ]
  },
  {
   "cell_type": "markdown",
   "id": "6f10f764-8d87-460c-b3ea-530a0cb329d5",
   "metadata": {},
   "source": [
    "2. Configure your Jupyter setup:"
   ]
  },
  {
   "cell_type": "raw",
   "id": "b7205425-e4b4-4e45-8ae3-a9d29dbe4219",
   "metadata": {},
   "source": [
    "jupyter notebook --generate-config\n",
    "nano ~/.jupyter/jupyter_notebook_config.py"
   ]
  },
  {
   "cell_type": "markdown",
   "id": "68c3b85b-21e9-4966-b654-87acb6fd0ec0",
   "metadata": {
    "tags": []
   },
   "source": [
    "- Set `c.NotebookApp.ip = '0.0.0.0'` and `c.NotebookApp.open_browser = False.`"
   ]
  },
  {
   "cell_type": "markdown",
   "id": "aaafb287-ffde-42ba-a2b0-fb39594261c8",
   "metadata": {},
   "source": [
    "3. Launch Jupyter Notebook on the Remote Server:\n",
    "- Open a terminal in VS Code (``Ctrl+`` or ``Cmd+``), and run Jupyter Notebook on the remote server."
   ]
  },
  {
   "cell_type": "markdown",
   "id": "2041b131-c46c-4da9-9724-a206714dd3d0",
   "metadata": {},
   "source": [
    " 5. Access Jupyter from Your Local Machine"
   ]
  },
  {
   "cell_type": "raw",
   "id": "ccfb6a4c-b9b7-4ac2-ac92-00ccbf98bc69",
   "metadata": {},
   "source": [
    "jupyter notebook --no-browser --port=8888"
   ]
  },
  {
   "cell_type": "markdown",
   "id": "9832fdbe-2f2c-4069-98a9-9d445c9fb64a",
   "metadata": {
    "tags": []
   },
   "source": [
    "After that, open your browser and navigate to `http://localhost:8888`"
   ]
  },
  {
   "cell_type": "markdown",
   "id": "e7f7bf7e-1e67-44e8-b73d-85c9035e64d3",
   "metadata": {
    "tags": []
   },
   "source": [
    "### Task 3: Use CLI Tool and Jupyter Together"
   ]
  },
  {
   "cell_type": "markdown",
   "id": "69698e5f-22b9-4150-80b6-ac9885e30b15",
   "metadata": {},
   "source": [
    "1. Use your `borough_complaints.py` script to find the most common complaint type in Jan-Feb 2020 by running the following. This will save the output in `complaints_jan_feb_2020.csv`"
   ]
  },
  {
   "cell_type": "raw",
   "id": "5587aed9-416f-4f87-9e8d-e55656737e0a",
   "metadata": {},
   "source": [
    "python borough_complaints.py -i nyc_311_2020.csv -s 2020-01-01 -e 2020-02-28 -o complaints_jan_feb_2020.csv"
   ]
  },
  {
   "cell_type": "markdown",
   "id": "bc791c38-d94f-4239-b253-b4cd90be9241",
   "metadata": {},
   "source": [
    "Similarly, to search for the most common complaint type from Jun-Jul 2020:"
   ]
  },
  {
   "cell_type": "raw",
   "id": "cebb68c2-33e9-4bbb-bd8c-b9f2f863a0d5",
   "metadata": {},
   "source": [
    "python borough_complaints.py -i nyc_311_2020.csv -s 2020-07-01 -e 2020-07-31 -o complaints_jun_jul_2020.csv"
   ]
  },
  {
   "cell_type": "markdown",
   "id": "357d474e-9cc3-4ebc-afb7-656076f90cb1",
   "metadata": {},
   "source": [
    "2. Find the most common complaint type for Jan-Feb 2020"
   ]
  },
  {
   "cell_type": "code",
   "execution_count": 44,
   "id": "23083eff-f789-4349-a7cb-74726e1fc2e7",
   "metadata": {
    "tags": []
   },
   "outputs": [
    {
     "data": {
      "text/plain": [
       "'HEAT/HOT WATER'"
      ]
     },
     "execution_count": 44,
     "metadata": {},
     "output_type": "execute_result"
    }
   ],
   "source": [
    "import pandas as pd\n",
    "import matplotlib.pyplot as plt\n",
    "\n",
    "df1 = pd.read_csv('complaints_jan_feb_2020.csv')\n",
    "top_complaint_1 = df1.groupby('complaint_type')['count'].sum().idxmax()\n",
    "top_complaint_1"
   ]
  },
  {
   "cell_type": "code",
   "execution_count": 52,
   "id": "3c699306-9dcd-4cb5-9ae5-bd3e4fe16a4d",
   "metadata": {
    "tags": []
   },
   "outputs": [
    {
     "data": {
      "image/png": "[encoded data removed]",
      "text/plain": [
       "<Figure size 800x400 with 1 Axes>"
      ]
     },
     "metadata": {},
     "output_type": "display_data"
    }
   ],
   "source": [
    "# Plot occurrences over Jan-Feb\n",
    "top_complaint_df1 = df1[df1['complaint_type'] == top_complaint_1]\n",
    "top_complaint_df1 = top_complaint_df1.groupby('borough')['count'].sum().reset_index()\n",
    "top_complaint_df1 = top_complaint_df1.sort_values(by='count', ascending=False)\n",
    "\n",
    "# Plot occurrences over Jan-Feb\n",
    "plt.figure(figsize=(8, 4))\n",
    "plt.bar(top_complaint_df1['borough'], top_complaint_df1['count'])\n",
    "plt.xlabel('Borough')\n",
    "plt.ylabel('Number of Complaints')\n",
    "plt.title(f'Number of \"{top_complaint_1}\" Complaints in Jan-Feb 2020')\n",
    "plt.tight_layout()\n",
    "plt.show()"
   ]
  },
  {
   "cell_type": "markdown",
   "id": "a9012d68-a71b-4536-a4af-aeaf9e473c06",
   "metadata": {},
   "source": [
    "3. Find the most common complaint type for Jun-Jul 2020"
   ]
  },
  {
   "cell_type": "code",
   "execution_count": 61,
   "id": "b5e157b1-e8d3-4387-80f8-9c345e86eca5",
   "metadata": {
    "tags": []
   },
   "outputs": [
    {
     "data": {
      "text/plain": [
       "'Noise - Residential'"
      ]
     },
     "execution_count": 61,
     "metadata": {},
     "output_type": "execute_result"
    }
   ],
   "source": [
    "df2 = pd.read_csv('complaints_jun_jul_2020.csv')\n",
    "top_complaint_2 = df2.groupby('complaint_type')['count'].sum().idxmax()\n",
    "top_complaint_2"
   ]
  },
  {
   "cell_type": "code",
   "execution_count": 56,
   "id": "23cc1073-2534-45cb-8fc0-3f8340ca62cf",
   "metadata": {
    "tags": []
   },
   "outputs": [
    {
     "data": {
      "image/png": "[encoded data removed]",
      "text/plain": [
       "<Figure size 800x400 with 1 Axes>"
      ]
     },
     "metadata": {},
     "output_type": "display_data"
    }
   ],
   "source": [
    "# Plot occurrences over Jun-Jul\n",
    "top_complaint_df2 = df2[df2['complaint_type'] == top_complaint_1]\n",
    "top_complaint_df2 = top_complaint_df2.groupby('borough')['count'].sum().reset_index()\n",
    "top_complaint_df2 = top_complaint_df2.sort_values(by='count', ascending=False)\n",
    "\n",
    "\n",
    "plt.figure(figsize=(8, 4))\n",
    "plt.bar(top_complaint_df2['borough'], top_complaint_df2['count'])\n",
    "plt.xlabel('Borough')\n",
    "plt.ylabel('Number of Complaints')\n",
    "plt.title(f'Number of \"{top_complaint_1}\" Complaints in Jun-Jul 2020')\n",
    "plt.tight_layout()\n",
    "plt.show()"
   ]
  },
  {
   "cell_type": "code",
   "execution_count": 58,
   "id": "861febc5-b62b-4185-8692-dceb928e4f24",
   "metadata": {
    "tags": []
   },
   "outputs": [
    {
     "data": {
      "image/png": "[encoded data removed]",
      "text/plain": [
       "<Figure size 1000x600 with 1 Axes>"
      ]
     },
     "metadata": {},
     "output_type": "display_data"
    }
   ],
   "source": [
    "import numpy as np\n",
    "\n",
    "boroughs = top_complaint_df1['borough'].unique()\n",
    "x = np.arange(len(boroughs))  # the label locations\n",
    "width = 0.35  # the width of the bars\n",
    "\n",
    "fig, ax = plt.subplots(figsize=(10, 6))\n",
    "bar1 = ax.bar(x - width/2, top_complaint_df1['count'], width, label='Jan-Feb')\n",
    "bar2 = ax.bar(x + width/2, top_complaint_df2['count'], width, label='Jun-Jul')\n",
    "\n",
    "ax.set_xlabel('Borough')\n",
    "ax.set_ylabel('Number of Complaints')\n",
    "ax.set_title(f'Number of \"{top_complaint_1}\" Complaints in Jan-Feb vs Jun-Jul 2020')\n",
    "ax.set_xticks(x)\n",
    "ax.set_xticklabels(boroughs)\n",
    "ax.legend()\n",
    "\n",
    "plt.tight_layout()\n",
    "plt.show()"
   ]
  },
  {
   "cell_type": "markdown",
   "id": "a35d6e3b-f64f-4e8d-bf26-ea1468da5eca",
   "metadata": {},
   "source": [
    "### Task 4: Build a Bokeh Dashboard"
   ]
  },
  {
   "cell_type": "markdown",
   "id": "9f739fc5-9bf8-4611-88fb-6432f60ce5a7",
   "metadata": {},
   "source": [
    "1. Compress 2020 file from Task 1"
   ]
  },
  {
   "cell_type": "raw",
   "id": "36a21984-22a8-4406-bc38-1599ad38b9d8",
   "metadata": {},
   "source": [
    "tar -czvf nyc_311_2020.tgz nyc_311_2020.csv"
   ]
  },
  {
   "cell_type": "markdown",
   "id": "0efa36c1-880f-4a23-8616-d9913577b487",
   "metadata": {},
   "source": [
    "2. Pre-process the data to generate monthly average create-to-closed times for each zipcode"
   ]
  },
  {
   "cell_type": "code",
   "execution_count": 17,
   "id": "55e87975-4148-416d-acbe-24db08c861cc",
   "metadata": {
    "tags": []
   },
   "outputs": [],
   "source": [
    "# Pre-processing Script\n",
    "import dask.dataframe as dd\n",
    "import pandas as pd\n",
    "import tarfile\n",
    "from io import BytesIO\n",
    "\n",
    "def preprocess_data(input_file):\n",
    "    with tarfile.open(input_file, 'r:gz') as tar:\n",
    "        csv_file = tar.extractfile(tar.getmembers()[0])\n",
    "        csv_data = BytesIO(csv_file.read())  \n",
    "\n",
    "    df = pd.read_csv(csv_data, header=None, usecols=[1, 2, 5, 8], \n",
    "                     names=['created_date', 'closed_date', 'complaint_type', 'incident_zip'],\n",
    "                     dtype={'incident_zip': 'float64'})\n",
    "\n",
    "    df['created_date'] = pd.to_datetime(df['created_date'], format='%m/%d/%Y %I:%M:%S %p', errors='coerce')\n",
    "    df['closed_date'] = pd.to_datetime(df['closed_date'], format='%m/%d/%Y %I:%M:%S %p', errors='coerce')\n",
    "\n",
    "    df = df.dropna(subset=['created_date', 'closed_date', 'incident_zip'])\n",
    "\n",
    "    df = df[(df['created_date'] >= '2020-01-01') & (df['created_date'] < '2021-01-01')]\n",
    "\n",
    "    df['incident_zip'] = df['incident_zip'].astype('int64')\n",
    "    df['response_time_hours'] = (df['closed_date'] - df['created_date']).dt.total_seconds() / 3600\n",
    "    df = df[df['response_time_hours'] > 0]\n",
    "\n",
    "    df['month'] = df['closed_date'].dt.to_period('M')\n",
    "\n",
    "    ddf = dd.from_pandas(df, npartitions=4)\n",
    "    result = ddf.groupby(['incident_zip', 'month'])['response_time_hours'].mean().reset_index()\n",
    "\n",
    "    result.compute().to_csv('monthly_avg_response_times.csv', index=False)\n",
    "\n",
    "preprocess_data('nyc_311_2020.tgz')"
   ]
  },
  {
   "cell_type": "markdown",
   "id": "d178fe1c-ef9d-4e2e-a52d-c276fa8de817",
   "metadata": {},
   "source": [
    "3. Create a Bokeh dashboard:"
   ]
  },
  {
   "cell_type": "markdown",
   "id": "9734b63a-64f1-4615-abfa-6150560deafc",
   "metadata": {},
   "source": [
    "- Install Bokeh: `pip install bokeh`\n",
    "- Write the python script for the Bokeh dashboard:"
   ]
  },
  {
   "cell_type": "code",
   "execution_count": 12,
   "id": "3d61df21-4c4e-4612-86f1-637e29aa78a0",
   "metadata": {
    "tags": []
   },
   "outputs": [],
   "source": [
    "# save script as nyc_dashboard.py\n",
    "\n",
    "from bokeh.io import curdoc\n",
    "from bokeh.layouts import column\n",
    "from bokeh.models import Select\n",
    "from bokeh.plotting import figure\n",
    "import pandas as pd\n",
    "\n",
    "\n",
    "df = pd.read_csv('monthly_avg_response_times.csv', parse_dates=['month'])\n",
    "df['incident_zip'] = df['incident_zip'].astype(str)\n",
    "\n",
    "zipcode_options = sorted(df['incident_zip'].unique().tolist())\n",
    "\n",
    "zipcode1_select = Select(title=\"Zipcode 1\", options=zipcode_options, value=\"10001\")\n",
    "zipcode2_select = Select(title=\"Zipcode 2\", options=zipcode_options, value=\"10002\")\n",
    "\n",
    "p = figure(title=\"Monthly Response Times\", x_axis_type=\"datetime\", height=400, width=700)\n",
    "p.xaxis.axis_label = \"Month\"\n",
    "p.yaxis.axis_label = \"Response Time (Hours)\"\n",
    "\n",
    "# Ensure data is sorted by month\n",
    "df = df.sort_values('month')\n",
    "\n",
    "# Initial plot for all data\n",
    "all_data = df.groupby('month')['response_time_hours'].mean().reset_index()\n",
    "p.line(all_data['month'], all_data['response_time_hours'], line_width=2, color='gray', legend_label=\"All Data\")\n",
    "\n",
    "# Plot for the first selected zipcodes\n",
    "zipcode1_data = df[df['incident_zip'] == zipcode1_select.value]\n",
    "zipcode2_data = df[df['incident_zip'] == zipcode2_select.value]\n",
    "line_zip1 = p.line(zipcode1_data['month'], zipcode1_data['response_time_hours'], line_width=2, color='blue', legend_label=f\"Zipcode {zipcode1_select.value}\")\n",
    "line_zip2 = p.line(zipcode2_data['month'], zipcode2_data['response_time_hours'], line_width=2, color='green', legend_label=f\"Zipcode {zipcode2_select.value}\")\n",
    "\n",
    "p.legend.location = \"top_left\"\n",
    "p.legend.label_text_font_size = '10pt'\n",
    "p.legend.orientation = \"horizontal\"\n",
    "p.add_layout(p.legend[0], 'below')\n",
    "\n",
    "def update_plot(attr, old, new):\n",
    "    # Update data for Zipcode 1\n",
    "    zipcode1_data = df[df['incident_zip'] == zipcode1_select.value]\n",
    "    line_zip1.data_source.data = {'x': zipcode1_data['month'], 'y': zipcode1_data['response_time_hours']}\n",
    "\n",
    "    # Update data for Zipcode 2\n",
    "    zipcode2_data = df[df['incident_zip'] == zipcode2_select.value]\n",
    "    line_zip2.data_source.data = {'x': zipcode2_data['month'], 'y': zipcode2_data['response_time_hours']}\n",
    "\n",
    "    p.legend.items = [\n",
    "        ('All Data', [p.renderers[0]]),\n",
    "        (f\"Zipcode {zipcode1_select.value}\", [line_zip1]),\n",
    "        (f\"Zipcode {zipcode2_select.value}\", [line_zip2])\n",
    "    ]\n",
    "\n",
    "# Attach the update function to the dropdowns\n",
    "zipcode1_select.on_change('value', update_plot)\n",
    "zipcode2_select.on_change('value', update_plot)\n",
    "\n",
    "# Define the layout and attach it to the document\n",
    "layout = column(zipcode1_select, zipcode2_select, p)\n",
    "curdoc().add_root(layout)\n",
    "curdoc().title = \"NYC 311 Dashboard\""
   ]
  },
  {
   "cell_type": "markdown",
   "id": "d9286662-a94e-493a-98b8-197e6a63b2b9",
   "metadata": {},
   "source": [
    "3. Run the Bokeh dashboard:"
   ]
  },
  {
   "cell_type": "markdown",
   "id": "35893fcc-fbfe-408d-8ce0-a2a099e4bf8e",
   "metadata": {},
   "source": [
    "bokeh serve --show nyc_dashboard.py --port 8080"
   ]
  },
  {
   "cell_type": "markdown",
   "id": "ed70b3c1-a7a6-44ce-974d-527a6b84abf3",
   "metadata": {},
   "source": [
    "4. Commit your Bokeh code:"
   ]
  },
  {
   "cell_type": "raw",
   "id": "a8534799-dcbb-43f0-8ae1-db300795468b",
   "metadata": {},
   "source": [
    "tar czf Bokeh.tgz nyc_dashboard.py"
   ]
  }
 ],
 "metadata": {
  "kernelspec": {
   "display_name": "Python 3 (ipykernel)",
   "language": "python",
   "name": "python3"
  },
  "language_info": {
   "codemirror_mode": {
    "name": "ipython",
    "version": 3
   },
   "file_extension": ".py",
   "mimetype": "text/x-python",
   "name": "python",
   "nbconvert_exporter": "python",
   "pygments_lexer": "ipython3",
   "version": "3.11.5"
  }
 },
 "nbformat": 4,
 "nbformat_minor": 5
}
